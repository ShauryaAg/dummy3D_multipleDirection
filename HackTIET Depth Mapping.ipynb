{
 "cells": [
  {
   "cell_type": "code",
   "execution_count": 1,
   "metadata": {},
   "outputs": [],
   "source": [
    "import numpy as np\n",
    "import cv2\n",
    "from matplotlib import pyplot as plt"
   ]
  },
  {
   "cell_type": "code",
   "execution_count": 10,
   "metadata": {},
   "outputs": [],
   "source": [
    "plt.rcParams['figure.figsize'] = (9, 12)"
   ]
  },
  {
   "cell_type": "code",
   "execution_count": 11,
   "metadata": {},
   "outputs": [],
   "source": [
    "vidL = cv2.VideoCapture('Videos/left.mp4')\n",
    "vidR = cv2.VideoCapture('Videos/right.mp4')"
   ]
  },
  {
   "cell_type": "code",
   "execution_count": 12,
   "metadata": {},
   "outputs": [],
   "source": [
    "if (vidL.isOpened()==False or vidR.isOpened() == False):\n",
    "    print(\"Error opening video stream or file\")"
   ]
  },
  {
   "cell_type": "code",
   "execution_count": 13,
   "metadata": {},
   "outputs": [],
   "source": [
    "frame_width = int(vidR.get(3))\n",
    "frame_height = int(vidL.get(4))"
   ]
  },
  {
   "cell_type": "code",
   "execution_count": 14,
   "metadata": {},
   "outputs": [],
   "source": [
    "fourcc = cv2.VideoWriter_fourcc(*'X264')\n",
    "out = cv2.VideoWriter('depthMap.mp4', fourcc, 30, (frame_width,frame_height))"
   ]
  },
  {
   "cell_type": "code",
   "execution_count": 15,
   "metadata": {},
   "outputs": [],
   "source": [
    "i=0"
   ]
  },
  {
   "cell_type": "code",
   "execution_count": 8,
   "metadata": {},
   "outputs": [
    {
     "data": {
      "image/png": "[encoded data removed]",
      "text/plain": [
       "<Figure size 216x288 with 1 Axes>"
      ]
     },
     "metadata": {
      "needs_background": "light"
     },
     "output_type": "display_data"
    }
   ],
   "source": [
    "while(vidL.isOpened() and vidR.isOpened()):\n",
    "    \n",
    "    # Capture frame-by-frame\n",
    "    retL, frameL = vidL.read()\n",
    "    retR, frameR = vidR.read()\n",
    "    \n",
    "    if (retL and retR):\n",
    "        \n",
    "        gray_frameL = cv2.cvtColor(frameL, cv2.COLOR_BGR2GRAY)\n",
    "        gray_frameR = cv2.cvtColor(frameR, cv2.COLOR_BGR2GRAY)\n",
    "        \n",
    "        \n",
    "        stereo = cv2.StereoBM_create(numDisparities=128, blockSize=9)\n",
    "        disparity = stereo.compute(gray_frameL, gray_frameR)\n",
    "        #out.write(disparity)\n",
    "        # Display the resulting frame\n",
    "        # plt.imshow(frame, 'gray')\n",
    "        plt.axis('off')\n",
    "        plt.imshow(disparity, 'inferno')\n",
    "        image_name = f'depthmap_{i}.png'\n",
    "        i = i+1\n",
    "        plt.savefig(f'depth_folder_1/{image_name}')\n",
    "        \n",
    "        # Press Q on keyboard to  exit\n",
    "        if cv2.waitKey(25) & 0xFF == ord('q'):\n",
    "            break\n",
    "\n",
    "    # Break the loop\n",
    "    else: \n",
    "        break"
   ]
  },
  {
   "cell_type": "code",
   "execution_count": 9,
   "metadata": {},
   "outputs": [],
   "source": [
    "vidL.release()\n",
    "vidR.release()\n",
    "out.release()"
   ]
  },
  {
   "cell_type": "code",
   "execution_count": null,
   "metadata": {},
   "outputs": [],
   "source": []
  }
 ],
 "metadata": {
  "kernelspec": {
   "display_name": "Python 3",
   "language": "python",
   "name": "python3"
  },
  "language_info": {
   "codemirror_mode": {
    "name": "ipython",
    "version": 3
   },
   "file_extension": ".py",
   "mimetype": "text/x-python",
   "name": "python",
   "nbconvert_exporter": "python",
   "pygments_lexer": "ipython3",
   "version": "3.7.4"
  }
 },
 "nbformat": 4,
 "nbformat_minor": 2
}
